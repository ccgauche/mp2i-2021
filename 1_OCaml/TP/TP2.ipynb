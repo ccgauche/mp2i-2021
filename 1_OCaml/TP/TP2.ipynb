{
 "cells": [
  {
   "cell_type": "markdown",
   "id": "0b8602ac",
   "metadata": {},
   "source": [
    "# TP 2 : récursivité et conditions\n",
    "\n",
    "Dans tout le TP, il est interdit d'utiliser des boucles (pas de `for` ni `while`).\n",
    "\n",
    "Rappel : pensez à tester toutes vos fonctions sur des exemples."
   ]
  },
  {
   "cell_type": "markdown",
   "id": "483ccb0b",
   "metadata": {},
   "source": [
    "## Petites questions\n",
    "\n",
    "1. Définir une fonction `divise` telle que `divise a b` renvoie `true` si  `a` divise `b`, `false` sinon. Il est interdit d'utiliser `if`.\n",
    "2. Définir une fonction récursive `somme` telle que `somme n` renvoie $\\sum_{k=1}^n k^2$.\n",
    "3. Définir une fonction récursive `u` telle que `u n` renvoie $u_n$ définie par :\n",
    "$$u_0 = 42$$\n",
    "$$u_{n} = 3\\sqrt{u_{n - 1}} + 2$$\n",
    "4. Définir une fonction récursive `v` telle que `v a n` renvoie $v_n$ définie par (on fera attention à n'utiliser qu'un appel récursif) :\n",
    "$$v_0 = a$$\n",
    "$$v_{n + 1} = \\frac{1}{2}(v_n + \\frac{a}{v_n})$$\n",
    "5. Calculer `v a n` pour plusieurs valeurs de `a` et de `n` : que peut-on conjecturer sur la limite de $v_n$ ? Optionnel : le démontrer.  \n",
    "6. Soient $a$ et $b$ deux entiers et $q, r$ le quotient et reste de la division euclidienne de $a$ par $b$ ($a = bq + r$). En utilisant le fait que $PGCD(a, b)$ = $PGCD(b, r)$, écrire une fonction `euclide` telle que `euclide a b` renvoie le PGCD de $a$ et $b$."
   ]
  },
  {
   "cell_type": "code",
   "execution_count": 23,
   "id": "69844133-c348-4c8d-9199-60df302554cb",
   "metadata": {},
   "outputs": [
    {
     "data": {
      "text/plain": [
       "val divise : int -> int -> bool = <fun>\n"
      ]
     },
     "execution_count": 23,
     "metadata": {},
     "output_type": "execute_result"
    },
    {
     "data": {
      "text/plain": [
       "val somme : int -> int = <fun>\n"
      ]
     },
     "execution_count": 23,
     "metadata": {},
     "output_type": "execute_result"
    },
    {
     "data": {
      "text/plain": [
       "val u : int -> float = <fun>\n"
      ]
     },
     "execution_count": 23,
     "metadata": {},
     "output_type": "execute_result"
    },
    {
     "data": {
      "text/plain": [
       "val v : float -> int -> float = <fun>\n"
      ]
     },
     "execution_count": 23,
     "metadata": {},
     "output_type": "execute_result"
    },
    {
     "data": {
      "text/plain": [
       "- : unit = ()\n"
      ]
     },
     "execution_count": 23,
     "metadata": {},
     "output_type": "execute_result"
    },
    {
     "name": "stdout",
     "output_type": "stream",
     "text": [
      "0.316227766017\n"
     ]
    },
    {
     "data": {
      "text/plain": [
       "- : unit = ()\n"
      ]
     },
     "execution_count": 23,
     "metadata": {},
     "output_type": "execute_result"
    },
    {
     "data": {
      "text/plain": [
       "- : unit = ()\n"
      ]
     },
     "execution_count": 23,
     "metadata": {},
     "output_type": "execute_result"
    },
    {
     "name": "stdout",
     "output_type": "stream",
     "text": [
      "0.316227766017\n"
     ]
    },
    {
     "data": {
      "text/plain": [
       "- : unit = ()\n"
      ]
     },
     "execution_count": 23,
     "metadata": {},
     "output_type": "execute_result"
    }
   ],
   "source": [
    "let divise a b = a mod b = 0;;\n",
    "let rec somme n = match n with\n",
    "    | 0 -> 0\n",
    "    | e -> somme (e-1) + (e* e);;\n",
    "let rec u n = match n with\n",
    "    | 0 -> 42.\n",
    "    | e -> 3. *. sqrt (u (n-1)) +. 2.;;\n",
    "let rec v a n = match n with\n",
    "    | 0 -> a\n",
    "    | e -> let tmp = v a (e-1) in\n",
    "        0.5 *. ( tmp +. a /. tmp);;\n",
    "print_float(v 0.1 10);;\n",
    "print_newline();;\n",
    "print_float(v 0.1 20);;\n",
    "print_newline();;"
   ]
  },
  {
   "cell_type": "markdown",
   "id": "f9323ab0",
   "metadata": {},
   "source": [
    "## Exponentiation rapide\n",
    "\n",
    "1. Écrire une fonction récursive `puissance` naïve (c'est à dire très simple) telle que `puissance a n` renvoie $a^n$. Combien effectue t-elle de multiplications (en fonction de n) ?\n",
    "2. Écrire une fonction récursive `exp_rapide` pour calculer $a^n$, en utilisant les relations suivantes :\n",
    "$$ \n",
    "\\begin{cases} \n",
    "a^n = (a^{\\frac{n}{2}})^2 ~~~~~~~~~\\text{si }n\\text{ est pair}\\\\\n",
    "a^{n} = a \\times (a^{\\frac{n-1}{2}})^2 ~~~~~\\text{sinon}\n",
    "\\end{cases}\n",
    "$$\n",
    "**Attention** : pour mettre au carré, utiliser une variable plutôt que faire 2 appels récursifs, ce qui augmenterait beaucoup le nombre d'opérations.  \n",
    "**Remarque** : On montrera plus tard que cette 2ème version demande de l'ordre de $\\ln(n)$ multiplications seulement."
   ]
  },
  {
   "cell_type": "code",
   "execution_count": 29,
   "id": "7e370d06-8977-4e75-ba37-c631b833b420",
   "metadata": {},
   "outputs": [
    {
     "data": {
      "text/plain": [
       "val puissance : float -> int -> float = <fun>\n"
      ]
     },
     "execution_count": 29,
     "metadata": {},
     "output_type": "execute_result"
    },
    {
     "data": {
      "text/plain": [
       "val exp_rapide : int -> int -> int = <fun>\n"
      ]
     },
     "execution_count": 29,
     "metadata": {},
     "output_type": "execute_result"
    },
    {
     "data": {
      "text/plain": [
       "- : float = 100000.\n"
      ]
     },
     "execution_count": 29,
     "metadata": {},
     "output_type": "execute_result"
    }
   ],
   "source": [
    "let rec puissance a n = match n with\n",
    "    | 0 -> 1.\n",
    "    | e -> (puissance a (n-1)) *. a;;\n",
    "let rec exp_rapide a n = if n mod 2 == 0 then\n",
    "    let b = exp_rapide a (n/2) in b * b\n",
    "else \n",
    "    a * let b = exp_rapide a ((n-1)/2) in b * b;;\n",
    "puissance 10. 5"
   ]
  },
  {
   "cell_type": "markdown",
   "id": "1dba41b0",
   "metadata": {},
   "source": [
    "# Accumulateur\n",
    "\n",
    "On a vu dans le cours sur la récursivité (avec l'exemple de la suite de Fibonacci) qu'un accumulateur est un argument que l'on ajoute à une fonction pour calculer sa valeur de retour.  \n",
    "1. Écrire une fonction `fact` telle que `fact acc n` renvoie `n`!, en utilisant `acc` comme accumulateur. Voici à quoi va ressemble `fact` :\n",
    "```ocaml\n",
    "let rec fact acc n =\n",
    "    if n = 0 then acc  (* on renvoie l'accumulateur qui contient le résultat *)\n",
    "    else fact ... (* appel récursif en modifiant l'accumulateur *)\n",
    "```\n",
    "2. En utilisant `fact` et l'application partielle de fonction, définir `f : int -> int` renvoyant la factoielle d'un entier.\n",
    "\n",
    "**Remarque** : le but ici est juste de vous entraîner à savoir utiliser un accumulateur, qui sont parfois utiles (comme pour la fonction `fibo` du cours). En DS ou concours on évitera d'utiliser un accumulateur lorsqu'il y en a pas besoin (comme pour la fonction `fact`...), car cela rend le code plus compliqué.  "
   ]
  },
  {
   "cell_type": "code",
   "execution_count": 3,
   "id": "934510cd-a200-49ac-af60-7f1312c7b07d",
   "metadata": {},
   "outputs": [
    {
     "data": {
      "text/plain": [
       "val fact : int -> int -> int = <fun>\n"
      ]
     },
     "execution_count": 3,
     "metadata": {},
     "output_type": "execute_result"
    },
    {
     "data": {
      "text/plain": [
       "val f : int -> int = <fun>\n"
      ]
     },
     "execution_count": 3,
     "metadata": {},
     "output_type": "execute_result"
    },
    {
     "data": {
      "text/plain": [
       "- : int = 24\n"
      ]
     },
     "execution_count": 3,
     "metadata": {},
     "output_type": "execute_result"
    }
   ],
   "source": [
    "let rec fact acc n =\n",
    " if n = 0 then acc\n",
    " else fact (acc * n) (n-1);;\n",
    "let f = fact 1;;\n",
    "f 4"
   ]
  },
  {
   "cell_type": "markdown",
   "id": "3ce1d3dc",
   "metadata": {},
   "source": [
    "## Temps de vol de la suite de Syracuse\n",
    "\n",
    "La suite de Syracuse d'un entier $a$ est définie par :  \n",
    "$$u_0 = a$$\n",
    "$$u_{n+1} =\n",
    "\\begin{cases} \n",
    "     \\frac{u_n}{2}, \\text{si } u_n \\text{ est pair}\\\\\n",
    "    3u_n + 1, \\text{sinon}\\\\\n",
    "\\end{cases}$$\n",
    "\n",
    "Le temps de vol de $(u_n)_n$ est le plus petit entier $t$ tel que $u_t = 1$.  \n",
    "\n",
    "1. Écrire une fonction récursive `temps_vol` telle que `temps_vol a` renvoie le temps de vol de $(u_n)_n$ (où $u_0 = a$)."
   ]
  },
  {
   "cell_type": "code",
   "execution_count": 7,
   "id": "d6f6e02b-adb6-41b9-9903-2ce7740f47fa",
   "metadata": {},
   "outputs": [
    {
     "data": {
      "text/plain": [
       "val temps_vol : int -> int = <fun>\n"
      ]
     },
     "execution_count": 7,
     "metadata": {},
     "output_type": "execute_result"
    },
    {
     "data": {
      "text/plain": [
       "- : int = 3\n"
      ]
     },
     "execution_count": 7,
     "metadata": {},
     "output_type": "execute_result"
    }
   ],
   "source": [
    "let rec temps_vol = function\n",
    "    | 1 -> 0\n",
    "    | a when a mod 2 = 0 -> 1 + temps_vol (a / 2)\n",
    "    | a -> 1 + temps_vol (3 * a + 1);;\n",
    "temps_vol 8"
   ]
  },
  {
   "cell_type": "markdown",
   "id": "da47237d",
   "metadata": {},
   "source": [
    "## Fonction mystérieuse\n",
    "\n",
    "Tester la fonction suivante pour des $n$ entre $0$ et $100$, conjecturer un théorème et prouvez-le par récurrence."
   ]
  },
  {
   "cell_type": "code",
   "execution_count": 8,
   "id": "1c7692d4",
   "metadata": {
    "tags": []
   },
   "outputs": [
    {
     "data": {
      "text/plain": [
       "val f : int -> int = <fun>\n"
      ]
     },
     "execution_count": 8,
     "metadata": {},
     "output_type": "execute_result"
    },
    {
     "ename": "interrupt",
     "evalue": "intterupt",
     "output_type": "error",
     "traceback": [
      "\u001b[31mException: Sys.Break.\u001b[0m"
     ]
    }
   ],
   "source": [
    "let rec f n =\n",
    "    if n > 100 then n - 10 \n",
    "    else f (f (n + 11)) ;;"
   ]
  },
  {
   "cell_type": "markdown",
   "id": "10f19826-d453-455e-9e7a-443dd3ebe4c0",
   "metadata": {},
   "source": [
    "${\\displaystyle M(n)={\\begin{cases}n-10,&{\\mbox{if }}n>100{\\mbox{ }}\\\\M(M(n+11)),&{\\mbox{if }}n\\leq 100{\\mbox{ }}\\end{cases}}}$"
   ]
  },
  {
   "cell_type": "markdown",
   "id": "19395e62-a257-4530-a2a1-9521c3dd6ce8",
   "metadata": {},
   "source": [
    "On calcule les termes de 100 a 110:\n",
    "\n",
    "On obtient $M(n) = 91, x \\in N, 99 < x < 111$\n",
    "\n",
    "On utilisera une réccurence forte descendante\n",
    "\n",
    "On note $P_n:\"M(n) = 91\"$\n",
    "\n",
    "Init\n",
    "\n",
    "$P_n$ est vraie pour $x \\in N, 99 < x < 111$\n",
    "\n",
    "Hérédité\n",
    "\n",
    "On sait que $P(n+k)$ est vraie $k < 12, k \\in N$\n",
    "\n",
    "Comme $ n + k < 100$ alors:\n",
    "\n",
    "$P_n(n+k) = (P_n(n+k-11) + 11)$\n",
    "\n",
    "Donc $P_n(n+k-11)$ est vraie $k < 12, k \\in N$\n",
    "\n",
    "Conclusion\n",
    "\n",
    "La propriété est vraie pour $99 < n < 111, n \\in N$ et héréditaire.\n",
    "\n",
    "Donc $P_n$ est vrai pour tout $N$ inférieur a 100."
   ]
  },
  {
   "cell_type": "markdown",
   "id": "256f5cdb",
   "metadata": {},
   "source": [
    "## Fonctions mutuellement récursives\n",
    "\n",
    "Il est possible de définir simultanément deux fonctions `f` et `g`, dépendant l'une de l'autre avec `and` :\n",
    "```ocaml\n",
    "let rec f x = ... and g y = ... in ...\n",
    "```\n",
    "\n",
    "Écrire deux fonctions `u` et `v` permettant de calculer le $n$ième terme des suites définies par :\n",
    "$$u_0 = 2$$\n",
    "$$v_0 = 3$$\n",
    "$$u_{n + 1} = u_n - u_n v_n$$\n",
    "$$v_{n + 1} = v_n + u_n v_n$$"
   ]
  },
  {
   "cell_type": "code",
   "execution_count": 4,
   "id": "8b834e4a-0d26-4f29-a06f-4534eab4618c",
   "metadata": {},
   "outputs": [
    {
     "data": {
      "text/plain": [
       "val u : int -> int = <fun>\n",
       "val v : int -> int = <fun>\n"
      ]
     },
     "execution_count": 4,
     "metadata": {},
     "output_type": "execute_result"
    },
    {
     "data": {
      "text/plain": [
       "- : int = 799232\n"
      ]
     },
     "execution_count": 4,
     "metadata": {},
     "output_type": "execute_result"
    }
   ],
   "source": [
    "let rec u = function\n",
    "    | 0 -> 2 \n",
    "    | n -> u (n-1) - (u (n-1)) * (v (n-1)) \n",
    "    and v = function\n",
    "    | 0 -> 3\n",
    "    | n -> v (n-1) + (u (n-1)) * (v (n-1));;\n",
    "\n",
    "u 4"
   ]
  },
  {
   "cell_type": "markdown",
   "id": "633fff0c",
   "metadata": {
    "tags": []
   },
   "source": [
    "## Retour sur les tours de Hanoi\n",
    "\n",
    "**Remarque** : le problème des tours de Hanoi a déjà été vu en stage, mais on le refait ici en OCaml. En outre, il est utile de réactiver sa mémoire pour se souvenir des méthodes et il m'arrivera pendant l'année de redonner des exercices déjà posés."
   ]
  },
  {
   "cell_type": "markdown",
   "id": "b3da91d9",
   "metadata": {},
   "source": [
    "![](../img/hanoi.png)\n",
    "\n",
    "$n$ disques sont posés sur la tige à gauche. L'objectif est de déplacer tous les disques sur la tige à droite :\n",
    "\n",
    "![](../img/hanoi2.png)\n",
    "\n",
    "Règles du jeu :\n",
    "\n",
    "- On ne peut déplacer qu'un disque à la fois (celui tout en haut), sur une autre tige.\n",
    "- Il est interdit de poser un disque sur un autre plus petit.\n",
    "\n",
    "Exemple de premier déplacement valide :\n",
    "\n",
    "![](../img/hanoi3.png)\n",
    "\n",
    "On souhaite écrire une fonction récursive `hanoi` telle que `hanoi n tige1 tige2` affiche une suite de déplacements (avec des `print_int`) permettant de déplacer $n$ disques depuis `tige1` vers `tige2`. On supposera que les tiges sont numérotées 0, 1, 2 (de gauche à droite).\n",
    "\n",
    "1. Supposons que vous sachiez déplacer $n-1$ disques d'une tige à une autre. Comment déplacer $n$ disques d'une tige à une autre ?\n",
    "2. Écrire `hanoi`."
   ]
  },
  {
   "cell_type": "code",
   "execution_count": 8,
   "id": "6d6183e2-18f9-42c0-a95b-e26fbe065a36",
   "metadata": {},
   "outputs": [
    {
     "data": {
      "text/plain": [
       "val hanoi : int -> unit = <fun>\n"
      ]
     },
     "execution_count": 8,
     "metadata": {},
     "output_type": "execute_result"
    },
    {
     "data": {
      "text/plain": [
       "- : unit = ()\n"
      ]
     },
     "execution_count": 8,
     "metadata": {},
     "output_type": "execute_result"
    }
   ],
   "source": [
    "let hanoi n =\n",
    "   let rec func n a b c = (* déplace n disques de a vers b en se servant de c *)\n",
    "      if n > 0 then begin\n",
    "         func (n - 1) a c b;\n",
    "         print_int a;\n",
    "         print_string \"->\";\n",
    "         print_int b;\n",
    "         print_string \"\\n\";\n",
    "         func c b a (n - 1)\n",
    "      end\n",
    "   in func n 0 1 2;;\n",
    "hanoi 3"
   ]
  },
  {
   "cell_type": "code",
   "execution_count": null,
   "id": "bc85ce6b-92ee-4772-a19e-209380433b59",
   "metadata": {},
   "outputs": [],
   "source": []
  }
 ],
 "metadata": {
  "kernelspec": {
   "display_name": "OCaml default",
   "language": "OCaml",
   "name": "ocaml-jupyter"
  },
  "language_info": {
   "codemirror_mode": "text/x-ocaml",
   "file_extension": ".ml",
   "mimetype": "text/x-ocaml",
   "name": "OCaml",
   "nbconverter_exporter": null,
   "pygments_lexer": "OCaml",
   "version": "4.08.1"
  }
 },
 "nbformat": 4,
 "nbformat_minor": 5
}
