{
 "cells": [
  {
   "cell_type": "markdown",
   "id": "e5f3d70e",
   "metadata": {},
   "source": [
    "# Types\n",
    "\n",
    "Devinez le type des fonctions suivantes et vérifier avec OCaml :\n",
    "```ocaml\n",
    "let f x y = x**y\n",
    "```\n",
    "```ocaml\n",
    "let g x y = x (y + 1)\n",
    "```\n",
    "```ocaml\n",
    "let h x y z = x (3. *. (y z)) + 1\n",
    "```\n",
    "Puis utilisez ces fonctions sur des arguments de votre choix."
   ]
  },
  {
   "cell_type": "markdown",
   "id": "2a10d305-a22b-48a9-9639-8b4047b41e96",
   "metadata": {},
   "source": [
    "# Tangente hyperbolique\n",
    "\n",
    "Définir en OCaml la fonction $\\tanh : x \\longmapsto \\frac{e^x - e^{-x}}{e^x + e^{-x}}$ en utilisant un seul appel à la fonction `exp : float -> float` de OCaml."
   ]
  },
  {
   "cell_type": "code",
   "execution_count": 34,
   "id": "522070b3-d614-48c9-ba9f-76dd232afd5b",
   "metadata": {},
   "outputs": [
    {
     "data": {
      "text/plain": [
       "val tanh : float -> float = <fun>\n"
      ]
     },
     "execution_count": 34,
     "metadata": {},
     "output_type": "execute_result"
    },
    {
     "data": {
      "text/plain": [
       "- : float = 0.664036770267848908\n"
      ]
     },
     "execution_count": 34,
     "metadata": {},
     "output_type": "execute_result"
    }
   ],
   "source": [
    "let tanh x = 1. -. 2. /. (exp(2. *. x) +. 1.);;\n",
    "tanh 0.8;;"
   ]
  },
  {
   "cell_type": "markdown",
   "id": "fc8ce049",
   "metadata": {},
   "source": [
    "# Géométrie\n",
    "\n",
    "Le type `float*float` désigne un couple de flottant, représentant un point `p` dans $\\mathbb{R}^2$. On peut récupérer les coordonnées de `p` avec `let x, y = p` . Par exemple :"
   ]
  },
  {
   "cell_type": "code",
   "execution_count": 1,
   "id": "88e5be36",
   "metadata": {
    "execution": {
     "iopub.execute_input": "2021-09-06T11:40:05.869393Z",
     "iopub.status.busy": "2021-09-06T11:40:05.866912Z",
     "iopub.status.idle": "2021-09-06T11:40:05.875260Z",
     "shell.execute_reply": "2021-09-06T11:40:05.873454Z"
    }
   },
   "outputs": [
    {
     "data": {
      "text/plain": [
       "- : float = 2.1\n"
      ]
     },
     "execution_count": 1,
     "metadata": {},
     "output_type": "execute_result"
    }
   ],
   "source": [
    "let p = (2.1, 3.7) in (* exemple de point *)\n",
    "let x, y = p in (* récupération des coordonnées *)\n",
    "x;; (* affichage de x *)"
   ]
  },
  {
   "cell_type": "markdown",
   "id": "7c497359",
   "metadata": {},
   "source": [
    "**Exercice** Écrire une fonction `aire_boule : float -> float` telle que `aire_boule r` renvoie l'aire d'une boule (disque en dimension 3) de rayon `r`, c'est à dire $\\frac{4 \\pi r^3}{3}$. On pourra utiliser `Float.pi`."
   ]
  },
  {
   "cell_type": "code",
   "execution_count": 105,
   "id": "c174f4d6-1b27-42f1-8b63-2e7bf343a9ca",
   "metadata": {},
   "outputs": [
    {
     "data": {
      "text/plain": [
       "val aire_boule : float -> float = <fun>\n"
      ]
     },
     "execution_count": 105,
     "metadata": {},
     "output_type": "execute_result"
    },
    {
     "data": {
      "text/plain": [
       "- : float = 113.097335529232552\n"
      ]
     },
     "execution_count": 105,
     "metadata": {},
     "output_type": "execute_result"
    }
   ],
   "source": [
    "let aire_boule r = 4. *. Float.pi *. r *. r *. r /. 3.;;\n",
    "aire_boule 3."
   ]
  },
  {
   "cell_type": "markdown",
   "id": "33056159",
   "metadata": {},
   "source": [
    "**Exercice** Écrire une fonction `distance : float*float -> float*float -> float` telle que `distance p1 p2` renvoie la distance euclidienne entre les points `p1` et `p2`.  \n",
    "Vérifier que la distance entre $(0, 0)$ et $(1, 1)$ est (approximativement) $\\sqrt{2}$."
   ]
  },
  {
   "cell_type": "code",
   "execution_count": 17,
   "id": "736a8334-54a8-46cf-8fcf-14b10403263b",
   "metadata": {},
   "outputs": [
    {
     "data": {
      "text/plain": [
       "val distance : float * float -> float * float -> float = <fun>\n"
      ]
     },
     "execution_count": 17,
     "metadata": {},
     "output_type": "execute_result"
    },
    {
     "data": {
      "text/plain": [
       "- : bool = false\n"
      ]
     },
     "execution_count": 17,
     "metadata": {},
     "output_type": "execute_result"
    }
   ],
   "source": [
    "let distance a b = \n",
    "    let x1, y1 = a in\n",
    "    let x2, y2 = b in\n",
    "    Float.sqrt ((x1 -. x2)**2. +. (y2 -. y1)**2.);;\n",
    "Float.abs (distance (0.,0.) (1.,1.) -. Float.sqrt 2.) < Float.epsilon"
   ]
  },
  {
   "cell_type": "markdown",
   "id": "311d0730",
   "metadata": {},
   "source": [
    "**Exercice** Écrire une fonction `polaire : float*float -> float*float` qui, étant donné les coordonnées cartésiennes $(x, y)$ d'un point, renvoie ses coordonnées polaires $(r, \\theta)$. On pourra utiliser `cos` et `sin` en OCaml.  \n",
    "Quelles sont les coordonnées polaires de $(x, y) = (1, 1)$, de $(x, y) = (\\frac{\\sqrt{3}}{2}, \\frac{1}{2})$?"
   ]
  },
  {
   "cell_type": "code",
   "execution_count": 102,
   "id": "a5563e8a-dd6f-4bd5-906d-c59d6c281ba3",
   "metadata": {},
   "outputs": [
    {
     "data": {
      "text/plain": [
       "val polaire : float * float -> float * float = <fun>\n"
      ]
     },
     "execution_count": 102,
     "metadata": {},
     "output_type": "execute_result"
    },
    {
     "data": {
      "text/plain": [
       "- : float * float = (0.785398163397448279, 0.)\n"
      ]
     },
     "execution_count": 102,
     "metadata": {},
     "output_type": "execute_result"
    },
    {
     "data": {
      "text/plain": [
       "- : float * float = (0.523598775598298927, 0.366025403784438597)\n"
      ]
     },
     "execution_count": 102,
     "metadata": {},
     "output_type": "execute_result"
    }
   ],
   "source": [
    "let polaire point = \n",
    "    let x,y = point in\n",
    "    Float.atan2 y x, distance (0.,0.) point;;\n",
    "polaire (1.,1.);;\n",
    "polaire (Float.sqrt 3. /. 2.,0.5);;\n",
    "    "
   ]
  },
  {
   "cell_type": "markdown",
   "id": "10dcf4cb",
   "metadata": {},
   "source": [
    "**Exercice** Écrire une fonction `milieu : float*float -> float*float -> float*float` telle que `milieu p1 p2` renvoie le milieu du segment d'extrémités `p1` et `p2`."
   ]
  },
  {
   "cell_type": "code",
   "execution_count": 23,
   "id": "73cdc3c5-c9cd-48c8-a261-94377de1ff02",
   "metadata": {},
   "outputs": [
    {
     "data": {
      "text/plain": [
       "val milieu : float * float -> float * float -> float * float = <fun>\n"
      ]
     },
     "execution_count": 23,
     "metadata": {},
     "output_type": "execute_result"
    },
    {
     "data": {
      "text/plain": [
       "- : float * float = (1.5, 1.5)\n"
      ]
     },
     "execution_count": 23,
     "metadata": {},
     "output_type": "execute_result"
    }
   ],
   "source": [
    "let milieu p1 p2 = \n",
    "    let x1, y1 = p1 in\n",
    "    let x2, y2 = p2 in\n",
    "    ((x1 +. x2) /. 2., (y1 +. y2) /. 2.);;\n",
    "milieu (1.,1.) (2.,2.)"
   ]
  },
  {
   "cell_type": "markdown",
   "id": "da58592f",
   "metadata": {},
   "source": [
    "**Exercice** Écrire une fonction `parallelogramme : float*float -> float*float -> float*float -> float*float -> bool` telle que `parallelogramme p1 p2 p3 p4` renvoie `true` si les points `p1`, `p1`, `p1`, `p1` forment un parallélogramme, c'est à dire si les côtés opposés sont (approximativement) de même longueur.  \n",
    "On fera attention à ne pas comparer 2 flottants avec `=`, mais regarder à la place si la différence est petite (< 0.001 par exemple)."
   ]
  },
  {
   "cell_type": "code",
   "execution_count": 25,
   "id": "67a24df5-a9d4-45aa-937c-5b0c936fd524",
   "metadata": {},
   "outputs": [
    {
     "data": {
      "text/plain": [
       "val fcmp : float -> float -> bool = <fun>\n"
      ]
     },
     "execution_count": 25,
     "metadata": {},
     "output_type": "execute_result"
    },
    {
     "data": {
      "text/plain": [
       "val parallelogramme :\n",
       "  float * float -> float * float -> float * float -> float * float -> bool =\n",
       "  <fun>\n"
      ]
     },
     "execution_count": 25,
     "metadata": {},
     "output_type": "execute_result"
    },
    {
     "data": {
      "text/plain": [
       "- : bool = true\n"
      ]
     },
     "execution_count": 25,
     "metadata": {},
     "output_type": "execute_result"
    }
   ],
   "source": [
    "(* This function takes two floats and return true if they are equals with EPSILON margin of error*)\n",
    "let fcmp a b = Float.abs (a -. b) < Float.epsilon;;\n",
    "let parallelogramme a b c d = fcmp (distance a b) (distance c d) && fcmp (distance b c) (distance d a);;\n",
    "parallelogramme (0.,0.) (0.,1.) (1.,1.) (1.,0.)"
   ]
  },
  {
   "cell_type": "markdown",
   "id": "70f6ebc5",
   "metadata": {},
   "source": [
    "# Congruence\n",
    "\n",
    "Le but de cet exercice est de calculer $1357^{2013}$ mod $5$ (mais la méthode utilisée s'applique dans un grande nombre d'exercices mathématiques).  \n",
    "On rappelle que les congruences sont compatibles avec la puissance :\n",
    "$$a \\equiv b [n] \\Longrightarrow a^k \\equiv b^k [n]$$\n",
    "\n",
    "1. Soit $k$ un entier positif. Que vaut $2^{4k}$ mod $5$? On pourra calculer des valeurs avec OCaml puis le démontrer mathématiquement.\n",
    "2. Que vaut $1357$ mod $5$? En déduire la valeur de $1357^{2013}$ mod $5$."
   ]
  },
  {
   "cell_type": "code",
   "execution_count": 104,
   "id": "b293dbf7-aae7-4ca0-935f-8101aa5c564b",
   "metadata": {},
   "outputs": [
    {
     "data": {
      "text/plain": [
       "val tof : int -> float = <fun>\n"
      ]
     },
     "execution_count": 104,
     "metadata": {},
     "output_type": "execute_result"
    },
    {
     "data": {
      "text/plain": [
       "val toi : float -> int = <fun>\n"
      ]
     },
     "execution_count": 104,
     "metadata": {},
     "output_type": "execute_result"
    },
    {
     "data": {
      "text/plain": [
       "val conj : int -> int = <fun>\n"
      ]
     },
     "execution_count": 104,
     "metadata": {},
     "output_type": "execute_result"
    },
    {
     "data": {
      "text/plain": [
       "val test : int -> int list = <fun>\n"
      ]
     },
     "execution_count": 104,
     "metadata": {},
     "output_type": "execute_result"
    },
    {
     "data": {
      "text/plain": [
       "- : int list = [1; 1; 1; 1; 1]\n"
      ]
     },
     "execution_count": 104,
     "metadata": {},
     "output_type": "execute_result"
    }
   ],
   "source": [
    "let tof = float_of_int;;\n",
    "let toi = int_of_float;;\n",
    "\n",
    "let conj k = toi (2. ** tof (4 * k)) mod 5;;\n",
    "let rec test a = if a > 0 then [conj a] @ test (a - 1) else [];;\n",
    "test 5"
   ]
  },
  {
   "cell_type": "markdown",
   "id": "41c60907",
   "metadata": {},
   "source": [
    "# Nombres aléatoires\n",
    "\n",
    "`Random.int n` permet d'obtenir un entier uniformément au hasard entre 0 et `n - 1` (chacun de ces entiers a la même probabilité $\\frac{1}{n}$ d'être obtenu).  \n",
    "Dans cet exercice, on imagine que l'on possède comme seule source aléatoire un dé à 5 faces (c'est à dire que l'on a seulement le droit d'utiliser `Random.int 5`).\n",
    "\n",
    "1. Calculer `(Random.int 5) + (Random.int 5)` plusieurs fois. Est-ce que le résultat vous semble être un entier uniformément au hasard entre 0 et 8?  \n",
    "2. Quelle est la probabilité d'obtenir `0` avec `(Random.int 5) + (Random.int 5)`? D'obtenir `1`? Quelle est l'entier qui a le plus de chances d'apparaître?\n",
    "3. Comment générer uniformément un entier entre 0 et 24? (C'est à dire passer de 5 possibilités à 25)\n",
    "3. Comment générer uniformément un entier entre 0 et 6? Écrire une fonction pour le faire. On utilisera une méthode par rejection (rejection sampling) : générer dans un espace plus grand et regénérer si la valeur n'est pas dans l'intervalle souhaité.  \n",
    "Pour cela on utilisera une boucle while :\n",
    "```ocaml\n",
    "while ... do\n",
    "    ...\n",
    "done\n",
    "```"
   ]
  },
  {
   "cell_type": "code",
   "execution_count": 92,
   "id": "c65248dc-1315-4182-b6a9-e3a956892533",
   "metadata": {},
   "outputs": [
    {
     "data": {
      "text/plain": [
       "- : int array = [|417; 771; 1218; 1587; 2060; 1578; 1156; 780; 434; 0|]\n"
      ]
     },
     "execution_count": 92,
     "metadata": {},
     "output_type": "execute_result"
    }
   ],
   "source": [
    "let ab = Array.make 10 0 in\n",
    "for i=0 to 10000 do\n",
    "    let k = (Random.int 5) + (Random.int 5) in\n",
    "    ab.(k) <- ((Array.get ab k) + 1)\n",
    "done;\n",
    "ab\n",
    "(* Comme on peut le voir la distribution est en défaveur des extrèmes (0, 1, 7, 8) \n",
    "En effet,\n",
    "plus on additionne de variables aléatoires a distribution uniformes plus le résultat tend vers une variable avec une distribution normale.\n",
    "*)"
   ]
  },
  {
   "cell_type": "markdown",
   "id": "06b0d01a-6605-423f-9424-f19a021ae150",
   "metadata": {},
   "source": [
    "2. La seule facon d'obtenir 0 est si le premier lancé et le second nous donnent 0 soit $\\frac 1 5 \\times \\frac 1 5 = \\frac 1 {25}$\n",
    "Il y a deux façon d'obtenir 1 soit en tirant 0 puis 1 soit l'inverse donc on a $\\frac 1 {25} \\times 2 = \\frac 2 {25}$\n",
    "L'entier avec le plus de chance d'apparaitre serait $\\frac {5 + 5} 2 = 5 $ mais il faut prendre en compte que on on commence a 0 qui ne contribue pas donc: $\\frac {4 + 4} 2 = 4$\n",
    "La valeur avec le plus de chances d'apparaitre est donc 4.\n",
    "3. Pour obtenir un nombre entre 0 et 25 a partir d'une fonction qui donne entre 0 et 5 peut se faire si on appelle $five(x)$ cette fonction qui retourne une valeur entre 0 et 5 avec $twentyfive(x) = 5 five(x) + five(x)$\n"
   ]
  },
  {
   "cell_type": "code",
   "execution_count": 99,
   "id": "92efd79c-115f-4227-8b35-0d5bf7b69856",
   "metadata": {},
   "outputs": [
    {
     "data": {
      "text/plain": [
       "- : int = 1\n"
      ]
     },
     "execution_count": 99,
     "metadata": {},
     "output_type": "execute_result"
    }
   ],
   "source": [
    "let five _ = Random.int 5 in\n",
    "let rec six _ = match (five () * 5 + five ()) with\n",
    "    | x when x < 6 -> x\n",
    "    | x -> six () in\n",
    "six ()\n"
   ]
  },
  {
   "cell_type": "code",
   "execution_count": null,
   "id": "3ea4e9ae-e019-4383-aa25-894459d6879f",
   "metadata": {},
   "outputs": [],
   "source": []
  }
 ],
 "metadata": {
  "kernelspec": {
   "display_name": "OCaml default",
   "language": "OCaml",
   "name": "ocaml-jupyter"
  },
  "language_info": {
   "codemirror_mode": "text/x-ocaml",
   "file_extension": ".ml",
   "mimetype": "text/x-ocaml",
   "name": "OCaml",
   "nbconverter_exporter": null,
   "pygments_lexer": "OCaml",
   "version": "4.08.1"
  }
 },
 "nbformat": 4,
 "nbformat_minor": 5
}
